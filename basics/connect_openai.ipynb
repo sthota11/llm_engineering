{
 "cells": [
  {
   "cell_type": "code",
   "execution_count": 1,
   "metadata": {},
   "outputs": [
    {
     "name": "stdout",
     "output_type": "stream",
     "text": [
      "API key found and looks good so far!\n"
     ]
    }
   ],
   "source": [
    "import os\n",
    "import requests\n",
    "from dotenv import load_dotenv\n",
    "from bs4 import BeautifulSoup\n",
    "from IPython.display import Markdown, display, update_display\n",
    "from openai import OpenAI\n",
    "from urllib.parse import urlencode\n",
    "import datetime\n",
    "\n",
    "# Load environment variables in a file called .env\n",
    "\n",
    "load_dotenv(override=True)\n",
    "\n",
    "api_key = os.getenv('OPENAI_API_KEY')\n",
    "\n",
    "if not api_key:\n",
    "    print(\"No API key was found - please get your api key and reference it in .env!\")\n",
    "elif not api_key.startswith(\"sk-proj-\"):\n",
    "    print(\"An API key was found, but it doesn't start sk-proj-\")\n",
    "elif api_key.strip() != api_key:\n",
    "    print(\"An API key was found, but it looks like it might have space or tab characters at the start or end - please remove them\")\n",
    "else:\n",
    "    print(\"API key found and looks good so far!\")"
   ]
  },
  {
   "cell_type": "code",
   "execution_count": 2,
   "metadata": {},
   "outputs": [],
   "source": [
    "openai = OpenAI()"
   ]
  },
  {
   "cell_type": "code",
   "execution_count": 7,
   "metadata": {},
   "outputs": [
    {
     "name": "stdout",
     "output_type": "stream",
     "text": [
      "Hello! Welcome! I'm glad you're here. How can I assist you today?\n"
     ]
    }
   ],
   "source": [
    "# Sending first message to the OpenAI\n",
    "\n",
    "message = \"Hello, OpenAI GPT! This is my first time connecting to you!\"\n",
    "response = openai.chat.completions.create(model=\"gpt-4o-mini\", messages=[{\"role\": \"user\", \"content\": message}])\n",
    "\n",
    "print(response.choices[0].message.content)"
   ]
  },
  {
   "cell_type": "code",
   "execution_count": 12,
   "metadata": {},
   "outputs": [],
   "source": [
    "# asking some math questions\n",
    "\n",
    "messages = [\n",
    "    {\"role\": \"system\", \"content\": \"you are a math expert who should help with math questions, with sarcasm\"},\n",
    "    {\"role\": \"user\", \"content\": \"What is 2 + 2?\"}\n",
    "]"
   ]
  },
  {
   "cell_type": "code",
   "execution_count": 13,
   "metadata": {},
   "outputs": [
    {
     "name": "stdout",
     "output_type": "stream",
     "text": [
      "Oh, wow, what a challenge! Are you ready for this? Drumroll, please... It's 4! Shocking, I know. If only all math was this mind-blowing!\n"
     ]
    }
   ],
   "source": [
    "response = openai.chat.completions.create(model=\"gpt-4o-mini\", messages=messages)\n",
    "print(response.choices[0].message.content)"
   ]
  },
  {
   "cell_type": "code",
   "execution_count": 3,
   "metadata": {},
   "outputs": [],
   "source": [
    "# A Function to scrape a website\n",
    "\n",
    "# Some websites need you to use proper headers when fetching them:\n",
    "headers = {\n",
    " \"User-Agent\": \"Mozilla/5.0 (Windows NT 10.0; Win64; x64) AppleWebKit/537.36 (KHTML, like Gecko) Chrome/117.0.0.0 Safari/537.36\"\n",
    "}\n",
    "\n",
    "class Website:\n",
    "\n",
    "    def __init__(self, url):\n",
    "        \"\"\"\n",
    "        Create this Website object from the given url using the BeautifulSoup library\n",
    "        \"\"\"\n",
    "        self.url = url\n",
    "        response = requests.get(url, headers=headers)\n",
    "        soup = BeautifulSoup(response.content, 'html.parser')\n",
    "        self.title = soup.title.string if soup.title else \"No title found\"\n",
    "        for irrelevant in soup.body([\"script\", \"style\", \"img\", \"input\"]):\n",
    "            irrelevant.decompose()\n",
    "        self.text = soup.body.get_text(separator=\"\\n\", strip=True)"
   ]
  },
  {
   "cell_type": "code",
   "execution_count": 4,
   "metadata": {},
   "outputs": [
    {
     "name": "stdout",
     "output_type": "stream",
     "text": [
      "Reddit - The heart of the internet\n"
     ]
    }
   ],
   "source": [
    "result = Website(\"https://www.reddit.com/\")\n",
    "print(result.title)"
   ]
  },
  {
   "cell_type": "code",
   "execution_count": 6,
   "metadata": {},
   "outputs": [],
   "source": [
    "# A function that writes a User Prompt that asks for summaries of websites:\n",
    "\n",
    "def user_prompt_for(website):\n",
    "    user_prompt = f\"You are looking at a website titled {website.title}\"\n",
    "    user_prompt += \"\\nThe contents of this website is as follows; please provide a short summary of this website in markdown. If it includes news or announcements, then summarize these too.\\n\"\n",
    "    user_prompt += website.text\n",
    "    return user_prompt"
   ]
  },
  {
   "cell_type": "code",
   "execution_count": 7,
   "metadata": {},
   "outputs": [],
   "source": [
    "def messages_for(website): \n",
    "    prompt = user_prompt_for(website)\n",
    "    if not prompt:\n",
    "        raise ValueError(\"user_prompt_for(website) returned an empty string!\")\n",
    "    \n",
    "    return [\n",
    "        {\"role\": \"system\", \"content\": \"You are an assistant that analyzes the contents of a website and provides a short summary, ignoring text that might be navigation related. Respond in markdown.\"},\n",
    "        {\"role\": \"user\", \"content\": prompt}\n",
    "    ]"
   ]
  },
  {
   "cell_type": "code",
   "execution_count": 8,
   "metadata": {},
   "outputs": [],
   "source": [
    "def summarize(url):\n",
    "    website = Website(url)\n",
    "    response = openai.chat.completions.create(\n",
    "        model = \"gpt-4o-mini\",\n",
    "        messages = messages_for(website)\n",
    "    )\n",
    "    return response.choices[0].message.content"
   ]
  },
  {
   "cell_type": "code",
   "execution_count": 10,
   "metadata": {},
   "outputs": [],
   "source": [
    "# A function to display this nicely in the Jupyter output, using markdown\n",
    "\n",
    "def display_summary(url):\n",
    "    summary = summarize(url)\n",
    "    display(Markdown(summary))"
   ]
  },
  {
   "cell_type": "code",
   "execution_count": 11,
   "metadata": {},
   "outputs": [
    {
     "data": {
      "text/markdown": [
       "# Reddit - The Heart of the Internet\n",
       "\n",
       "Reddit is a social media platform that serves as a community hub for discussions on a vast array of topics. Users can participate in forums, share news, and engage with others around shared interests.\n",
       "\n",
       "## Recent News Highlights\n",
       "\n",
       "- **US Tariffs on Solar Panels**: The US imposes tariffs as high as 3,521% on solar imports from Southeast Asia.\n",
       "  \n",
       "- **Politics**: Harvard University has filed a lawsuit against the Trump administration.\n",
       "\n",
       "- **Academy Awards Update**: A new rule announced by the Oscars states that voters must see all nominated films to cast their vote.\n",
       "\n",
       "- **Sports Update**: The Detroit Pistons recently defeated the New York Knicks in an NBA matchup, accompanied by discussions around a controversial play involving Jalen Brunson.\n",
       "\n",
       "- **WWE Update**: Photos from Wrestlemania Weekend have been shared.\n",
       "\n",
       "- **Technology**: The FTC has sued Uber for charging users for Uber One without their consent.\n",
       "\n",
       "## Community Highlights\n",
       "\n",
       "Reddit also features various community-driven discussions, including personal conflicts in threads like \"AITA for refusing to apologize for slapping my boyfriend.\" This thread narrates a birthday party incident that escalated into a personal conflict, highlighting issues of respect and relationships.\n",
       "\n",
       "Overall, Reddit acts as a platform for users to stay informed, share experiences, and connect over a wide range of topics."
      ],
      "text/plain": [
       "<IPython.core.display.Markdown object>"
      ]
     },
     "metadata": {},
     "output_type": "display_data"
    }
   ],
   "source": [
    "display_summary(\"https://reddit.com\")"
   ]
  },
  {
   "cell_type": "markdown",
   "metadata": {},
   "source": [
    "# Stock Analysis using Yahoo Finance"
   ]
  },
  {
   "cell_type": "code",
   "execution_count": 69,
   "metadata": {},
   "outputs": [],
   "source": [
    "headers = {\n",
    " \"User-Agent\": \"Mozilla/5.0 (Windows NT 10.0; Win64; x64) AppleWebKit/537.36 (KHTML, like Gecko) Chrome/117.0.0.0 Safari/537.36\"\n",
    "}\n",
    "\n",
    "class YahooFinanceWebsite:\n",
    "    def __init__(self, stock_symbol):\n",
    "        \"\"\"\n",
    "        Create this Website object from the given url using the BeautifulSoup library\n",
    "        \"\"\"\n",
    "        self.stock_symbol = stock_symbol.upper()\n",
    "\n",
    "    def __build_url(self, params):\n",
    "        base_url = f\"https://finance.yahoo.com/quote/{self.stock_symbol}/history/\"\n",
    "        query_string = urlencode(params)\n",
    "        return f\"{base_url}?{query_string}\"\n",
    "\n",
    "    def get_stock_data(self):\n",
    "        datetime_now = datetime.datetime.now()\n",
    "        datetime_year_ago = datetime_now - datetime.timedelta(days=365)\n",
    "        params = {\"frequency\": \"1wk\", \"period1\": datetime_year_ago.timestamp(), \"period2\": datetime_now.timestamp()}\n",
    "        url = self.__build_url(params)\n",
    "        response = requests.get(url, headers=headers)\n",
    "\n",
    "        soup = BeautifulSoup(response.content, 'html.parser')\n",
    "        \n",
    "        title = soup.title.string if soup.title else \"No title found\"\n",
    "        for irrelevant in soup.body([\"script\", \"style\", \"img\", \"input\"]):\n",
    "            irrelevant.decompose()\n",
    "\n",
    "        html_table_data = soup.find(\"table\")\n",
    "\n",
    "        return title, html_table_data"
   ]
  },
  {
   "cell_type": "code",
   "execution_count": 59,
   "metadata": {},
   "outputs": [],
   "source": [
    "def build_stock_analysis_prompt(stock_symbol, title, stock_table_data):\n",
    "    sys_prompt = r\"\"\"You are an assistant that analyzes the contents of HTML formated table that contains data on a specific stock.\n",
    "    The HTML table contains the date, open price, close price, low and highs aggregated for every week over one year timeframe.\n",
    "    Ignoring text, tags or html attributes that might be navigation related. \n",
    "    Respond in Markdown format\"\"\"\n",
    "\n",
    "    user_prompt = f\"The data provided below in the HTML table format for {stock_symbol}: {title} from the Yahoo Finances.\\\n",
    "    Make the explaination easy enough for a newbie to understand. \\\n",
    "    Analyze and Summarize the trends on this stock:\\n{stock_table_data}\\n\\n\\\n",
    "    Also, calculate the total returns in percentage one could have expected over this period.\"\n",
    "\n",
    "    return [\n",
    "        {\"role\": \"system\", \"content\": sys_prompt},\n",
    "        {\"role\": \"user\", \"content\": user_prompt}\n",
    "    ]"
   ]
  },
  {
   "cell_type": "code",
   "execution_count": 62,
   "metadata": {},
   "outputs": [],
   "source": [
    "def analyze_stock_trends(stock_symbol):\n",
    "    stock_data_page = YahooFinanceWebsite(stock_symbol)\n",
    "    title, stock_table_data = stock_data_page.get_stock_data()\n",
    "    response = openai.chat.completions.create(\n",
    "        model = \"gpt-4o-mini\",\n",
    "        messages = build_stock_analysis_prompt(stock_symbol, title, stock_table_data)\n",
    "    )\n",
    "    return response.choices[0].message.content\n",
    "\n",
    "def display_analysis(stock_symbol):\n",
    "    display(Markdown(analyze_stock_trends(stock_symbol)))"
   ]
  },
  {
   "cell_type": "code",
   "execution_count": 70,
   "metadata": {},
   "outputs": [
    {
     "data": {
      "text/markdown": [
       "# Alphabet Inc. (GOOG) Stock Analysis\n",
       "\n",
       "Here’s a summary and analysis of Alphabet Inc. (GOOG) based on the provided stock prices over a year.\n",
       "\n",
       "## Overview of Data\n",
       "\n",
       "The data includes weekly stock prices, and for each week we have:\n",
       "- **Opening Prices:** The price at which the stock opened at the beginning of the week.\n",
       "- **Closing Prices:** The price at which the stock closed at the end of the week.\n",
       "- **High Prices:** The highest price the stock reached during the week.\n",
       "- **Low Prices:** The lowest price the stock reached during the week.\n",
       "\n",
       "## Trends Observed\n",
       "\n",
       "1. **Price Fluctuation:**\n",
       "   - Throughout the year, the stock prices have shown significant fluctuation, with noticeable increases and decreases week over week.\n",
       "   - For instance, the stock's price opened at **202.21** on Feb 3, 2025, indicating a higher level compared to weeks earlier in the data. The highest recorded price during the week was **208.70**.\n",
       "\n",
       "2. **Price Movement:**\n",
       "   - The stock price has generally trended upwards in the early parts of the year, reaching peaks of around **208.70** in early February.\n",
       "   - There were notable dips, for example, in late December 2024, where the price was reported as low as **170.49**.\n",
       "\n",
       "3. **Volume Changes:**\n",
       "   - The trading volume has varied significantly across the weeks, with some weeks reporting volumes in excess of **139 million** shares traded, reflecting either increased investor interest or volatility around certain events or announcements.\n",
       "\n",
       "4. **Dividends:**\n",
       "   - There were dividends paid out during this period, notably **0.20** on multiple occasions. This is an additional return to investors aside from the capital gains from price appreciation.\n",
       "\n",
       "## Total Returns Calculation\n",
       "\n",
       "To compute the total returns percentage over the time period:\n",
       "1. **Initial Price**:  The price from Feb 12, 2024 (the first recorded week in the data) where the stock closed at **141.76**.\n",
       "2. **Final Price**: The price from Feb 3, 2025, closing at **187.14**.\n",
       "3. **Dividend Returns**:  Calculate total dividends received:  **0.20 + 0.20 + 0.20 = 0.60** (paid three times).\n",
       "\n",
       "### Total Returns Formula\n",
       "\n",
       "\\[\n",
       "\\text{Total Returns Percentage} = \\left(\\frac{\\text{Final Price} + \\text{Total Dividends} - \\text{Initial Price}}{\\text{Initial Price}}\\right) \\times 100\n",
       "\\]\n",
       "\n",
       "### Substituting Numbers\n",
       "\n",
       "\\[\n",
       "\\text{Total Returns Percentage} = \\left(\\frac{187.14 + 0.60 - 141.76}{141.76}\\right) \\times 100 \\approx \\left(\\frac{46.98}{141.76}\\right) \\times 100 \\approx 33.13\\%\n",
       "\\]\n",
       "\n",
       "## Conclusion\n",
       "\n",
       "The analysis indicates that Alphabet Inc. (GOOG) has performed well over the observed period, yielding a favorable total return of approximately **33.13%**. The stock has shown substantial volatility, with highs and lows, making it a potentially exciting option for investors who can tolerate risk. The dividends add to the returns, making it attractive even beyond just price appreciation. \n",
       "\n",
       "Overall, despite the fluctuations and various macroeconomic factors that may influence stock prices, Alphabet Inc. remains a strong contender in the market."
      ],
      "text/plain": [
       "<IPython.core.display.Markdown object>"
      ]
     },
     "metadata": {},
     "output_type": "display_data"
    }
   ],
   "source": [
    "display_analysis(\"GOOG\")"
   ]
  },
  {
   "cell_type": "code",
   "execution_count": 64,
   "metadata": {},
   "outputs": [
    {
     "data": {
      "text/markdown": [
       "## Analysis of Salesforce, Inc. (CRM) Stock Trends\n",
       "\n",
       "### Overview\n",
       "\n",
       "The table presents the historical stock prices for Salesforce, Inc. (CRM) for various weeks, including key data points: **Open**, **High**, **Low**, **Close**, **Adjusted Close**, and **Volume**. \n",
       "\n",
       "### Key Observations\n",
       "\n",
       "- **Recent Prices**: \n",
       "  - In February 2025, the stock opened at **$332.00** and closed at **$325.83**. \n",
       "  - There were fluctuations in prices with highs reaching **$348.04** and lows dropping to **$323.72** during the early February week.\n",
       "\n",
       "- **Trends Over Time**:\n",
       "  - The stock experienced significant variation over the year. \n",
       "  - A noticeable peak was observed in **December 2024** where the stock reached a high of **$358.07** and closed at **$343.65**, indicating some upward momentum during this period. \n",
       "  - The lowest recent price was **$212.00** during **late May 2024**, suggesting a notable drop from earlier highs, with a close price of **$234.44**.\n",
       "\n",
       "### Price Movements\n",
       "\n",
       "- **Overall Movement**: \n",
       "  - The stock prices have shown a general trend of rising over the long term but with significant drops and rises evident.\n",
       "  - Frequent fluctuations in the high and low prices indicate demand volatility.\n",
       "  \n",
       "- **Volume Analysis**: \n",
       "  - The trading volume varied greatly, with the highest volume of **126,360,300** recorded on **May 27, 2024**. High trading volumes often accompany volatility and significant news or events affecting the stock.\n",
       "\n",
       "### Return Calculation\n",
       "\n",
       "To calculate the **total returns** over the time period of the data (from the lowest point in May 2024 to the most recent recorded price in February 2025):\n",
       "\n",
       "1. **Lowest Closing Price**:\n",
       "   - **May 27, 2024**: Closed at **$234.44**.\n",
       "\n",
       "2. **Recent Closing Price**:\n",
       "   - **Feb 7, 2025**: Closed at **$325.83**.\n",
       "\n",
       "3. **Return Calculation**: \n",
       "   \\[\n",
       "   \\text{Total Return} = \\left( \\frac{\\text{Final Price} - \\text{Initial Price}}{\\text{Initial Price}} \\right) \\times 100\n",
       "   \\]\n",
       "   \\[\n",
       "   \\text{Total Return} = \\left( \\frac{325.83 - 234.44}{234.44} \\right) \\times 100 \\approx 38.95\\%\n",
       "   \\]\n",
       "\n",
       "### Summary of Trends\n",
       "\n",
       "- The stock has undergone significant ups and downs throughout the year.\n",
       "- Despite dips, including a low of **$234.44**, the stock has made a considerable recovery, reaching around **$325.83**, leading to a **total return of approximately 38.95%**.\n",
       "- Investors looking at CRM's performance should pay attention to periodic price fluctuations and the influences of earnings reports, market conditions, and broader economic factors.\n",
       "\n",
       "### Conclusion\n",
       "\n",
       "Salesforce's stock reflects both volatility and recovery potential, appealing to both short-term traders looking for value and long-term investors. A closer look at future earnings announcements and market conditions will be crucial for predicting the next direction of CRM shares."
      ],
      "text/plain": [
       "<IPython.core.display.Markdown object>"
      ]
     },
     "metadata": {},
     "output_type": "display_data"
    }
   ],
   "source": [
    "display_analysis(\"CRM\")"
   ]
  },
  {
   "cell_type": "markdown",
   "metadata": {},
   "source": [
    "# Create Social Media Posts based on event brite meetups"
   ]
  },
  {
   "cell_type": "code",
   "execution_count": 73,
   "metadata": {},
   "outputs": [
    {
     "data": {
      "text/markdown": [
       "### Twitter\n",
       "🚀 Exciting networking opportunity for startups and investors! Join us at the \"Startups & Investors Networking\" event on Feb 19, 6-9 PM PST at The Devil's Acre, SF. Pitch your ideas, connect with top investors, and gain valuable insights! 🍹 #StartupValley #Networking\n",
       "\n",
       "---\n",
       "\n",
       "### Instagram\n",
       "🌟 Ready to elevate your startup? Join us for the **Startups & Investors Networking** event hosted by **Startup Valley** on **February 19** from **6 PM to 9 PM PST** at **The Devil's Acre** in San Francisco! Mingle with investors, pitch your innovative projects, and expand your network. Don't miss your chance to shine! ✨ Tickets are limited, so secure yours now! 🍹 #StartupValley #InvestInYourFuture #NetworkingEvent\n",
       "\n",
       "---\n",
       "\n",
       "### Facebook\n",
       "📢 Calling all startups! Join us for the **\"Startups & Investors Networking\"** event on **February 19** from **6:00 PM to 9:00 PM PST** at **The Devil's Acre** in San Francisco. This is your chance to connect with investors, share your pitch, and gain valuable insights from industry professionals. Enjoy a welcoming atmosphere and the opportunity to be recognized as the \"Most Investment-Worthy\" startup! Don't forget, you must be **21 or older** and purchase a drink at the venue. Get your tickets now and secure your spot! 🥂 #StartupValley #NetworkingEvents"
      ],
      "text/plain": [
       "<IPython.core.display.Markdown object>"
      ]
     },
     "metadata": {},
     "output_type": "display_data"
    }
   ],
   "source": [
    "# Create Social Media Posts based on event brite meetups\n",
    "\n",
    "url = \"https://www.eventbrite.ie/e/startups-investors-networking-san-francisco-tickets-801798570107?aff=ebdssbdestsearch&keep_tld=1\"\n",
    "\n",
    "def get_prompts(summary):\n",
    "    system_prompt = r\"\"\"You are an assitant who analyzes the contents of an event and provide short summaries to post about the events on Social Media websites like Twitter, Instagram and Facebook. \\\n",
    "        Ensure the summaries respect the platform rules.\"\"\"\n",
    "    \n",
    "    user_prompt = f\"The events details are as follows: {summary}. Please summarize and capture details like time and location.\"\n",
    "\n",
    "    return [\n",
    "        {\"role\": \"system\", \"content\": system_prompt},\n",
    "        {\"role\": \"user\", \"content\": user_prompt}\n",
    "    ]\n",
    "\n",
    "summary = summarize(url)\n",
    "\n",
    "response = openai.chat.completions.create(model=\"gpt-4o-mini\", messages=get_prompts(summary))\n",
    "\n",
    "display(Markdown(response.choices[0].message.content))"
   ]
  },
  {
   "cell_type": "markdown",
   "metadata": {},
   "source": [
    "# Youtube Video Transcript Summary"
   ]
  },
  {
   "cell_type": "code",
   "execution_count": 77,
   "metadata": {},
   "outputs": [],
   "source": [
    "# Youtube Video Transcript Summary\n",
    "from youtube_transcript_api import YouTubeTranscriptApi\n",
    "import re\n",
    "\n",
    "class YoutubeVideoID:\n",
    "    def __init__(self, url):\n",
    "        self.url = url\n",
    "        self.video_id = self.extract_video_id(url)\n",
    "\n",
    "    def extract_video_id(self, url):\n",
    "        \"\"\"\n",
    "        Extracts the YouTube video ID from a given URL.\n",
    "        Supports both regular and shortened URLs.\n",
    "        \"\"\"\n",
    "        # Regular expression to match YouTube video URL and extract the video ID\n",
    "        regex = r\"(?:https?:\\/\\/)?(?:www\\.)?(?:youtube\\.com\\/(?:[^\\/\\n\\s]+\\/\\S+\\/|\\S*\\?v=)|(?:youtu\\.be\\/))([a-zA-Z0-9_-]{11})\"\n",
    "        match = re.match(regex, url)\n",
    "        \n",
    "        if match:\n",
    "            return match.group(1)\n",
    "        else:\n",
    "            raise ValueError(\"Invalid YouTube URL\")\n",
    "\n",
    "    def __str__(self):\n",
    "        return f\"Video ID: {self.video_id}\"\n"
   ]
  },
  {
   "cell_type": "code",
   "execution_count": 79,
   "metadata": {},
   "outputs": [
    {
     "name": "stdout",
     "output_type": "stream",
     "text": [
      "Video ID: KrRD7r7y7NY\n"
     ]
    }
   ],
   "source": [
    "video_url = \"https://www.youtube.com/watch?v=KrRD7r7y7NY\"\n",
    "\n",
    "yt_video = YoutubeVideoID(video_url)\n",
    "print(yt_video)"
   ]
  },
  {
   "cell_type": "code",
   "execution_count": 80,
   "metadata": {},
   "outputs": [],
   "source": [
    "def get_transcript(video_id, language='en'):\n",
    "    try:\n",
    "        # Try to get the transcript in the desired language (Indonesian by default)\n",
    "        transcript = YouTubeTranscriptApi.get_transcript(video_id, languages=[language])\n",
    "        # Join all the 'text' fields into a single string\n",
    "        return \" \".join([item['text'] for item in transcript])\n",
    "    except Exception as e:\n",
    "        print(f\"Error fetching transcript: {e}\")\n",
    "        return None"
   ]
  },
  {
   "cell_type": "code",
   "execution_count": 81,
   "metadata": {},
   "outputs": [
    {
     "name": "stdout",
     "output_type": "stream",
     "text": [
      "24651\n"
     ]
    }
   ],
   "source": [
    "# Fetch transcript using the video ID\n",
    "transcript_text = get_transcript(yt_video.video_id)\n",
    "print(len(transcript_text))"
   ]
  },
  {
   "cell_type": "code",
   "execution_count": 82,
   "metadata": {},
   "outputs": [],
   "source": [
    "# Function to summarize text using ChatGPT\n",
    "def summarize_text(text):\n",
    "    try:\n",
    "        system_prompts = \"\"\"\n",
    "        You are a helpful assistant who provides concise and accurate summaries of text. Your task is to:\n",
    "        \n",
    "        - Capture the key points of the content.\n",
    "        - Keep the summary brief and easy to understand with proper insights\n",
    "        - Use bullet points where appropriate to enhance clarity and structure.\n",
    "        \"\"\"\n",
    "        response = openai.chat.completions.create(\n",
    "            model=\"gpt-4o-mini\",\n",
    "            messages=[\n",
    "                {\"role\": \"system\", \"content\": system_prompts},\n",
    "                {\"role\": \"user\", \"content\": f\"Summarize the following text:\\n{text}\"}\n",
    "            ],\n",
    "        )\n",
    "        return response.choices[0].message.content\n",
    "    except Exception as e:\n",
    "        print(f\"Error summarizing text: {e}\")\n",
    "        return None"
   ]
  },
  {
   "cell_type": "code",
   "execution_count": 83,
   "metadata": {},
   "outputs": [
    {
     "data": {
      "text/markdown": [
       "**Summary of Andrew's Presentation at Snowflake Build:**\n",
       "\n",
       "- **AI as a Fundamental Technology:**\n",
       "  - AI is likened to electricity, a transformative general-purpose technology with vast applications.\n",
       "  - The focus on foundational technologies is critical, but application development is essential for maximizing value.\n",
       "\n",
       "- **AI Opportunity Landscape:**\n",
       "  - The AI stack consists of semiconductors, cloud infrastructure, foundation models, and applications.\n",
       "  - Emphasis on the application layer where significant opportunities to generate revenue lie.\n",
       "\n",
       "- **Rapid Development with Generative AI:**\n",
       "  - Generative AI allows for faster machine learning model development.\n",
       "  - Traditional workflows taking months can now be reduced to days for prototyping and deployment.\n",
       "\n",
       "- **Fast Experimentation:**\n",
       "  - Encourages quick prototyping and testing multiple ideas, leading to innovative solutions.\n",
       "  - New workflows collect and utilize data in parallel to accelerate development.\n",
       "\n",
       "- **Agentic AI Workflows:**\n",
       "  - Introduction of agentic AI as a key trend.\n",
       "  - Agentic workflows involve iterative processes that improve output by addressing tasks in multiple stages (e.g., revising essays, processing complex documents).\n",
       "\n",
       "- **Four Major Design Patterns for Agentic Workflows:**\n",
       "  1. **Reflection** - Continuous feedback and improvement of generated outputs.\n",
       "  2. **Tool Use** - Enabling models to request and execute external functions or tools.\n",
       "  3. **Planning** - Structuring complex tasks into actionable steps.\n",
       "  4. **Multi-agent Collaboration** - Utilizing multiple AI agents to address different aspects of a task together.\n",
       "\n",
       "- **Visual AI Advances:**\n",
       "  - Demonstrated the capability to process visual data and generate actionable insights using agentic workflows.\n",
       "  - The importance of visual data processing is rising, with tools available to automate and derive value from image and video data.\n",
       "\n",
       "- **Future AI Trends:**\n",
       "  -  Emphasis on efficient token generation and enhancements to large language models for versatile application.\n",
       "  - Growing significance of data engineering to manage unstructured data alongside burgeoning visual AI capabilities.\n",
       "\n",
       "- **Conclusion:**\n",
       "  - Current advancements allow builders to innovate and create applications that were previously unattainable.\n",
       "  - Invitation to explore visual AI demos on the provided platform for hands-on experience. \n",
       "\n",
       "Andrew’s enthusiasm reinforces that this is a pivotal moment for AI development and application building."
      ],
      "text/plain": [
       "<IPython.core.display.Markdown object>"
      ]
     },
     "metadata": {},
     "output_type": "display_data"
    }
   ],
   "source": [
    "summary = summarize_text(transcript_text)\n",
    "\n",
    "display(Markdown(summary))"
   ]
  },
  {
   "cell_type": "markdown",
   "metadata": {},
   "source": []
  },
  {
   "cell_type": "markdown",
   "metadata": {},
   "source": [
    "# Tool to answer any technical questions related to software engineering using open AI"
   ]
  },
  {
   "cell_type": "code",
   "execution_count": 85,
   "metadata": {},
   "outputs": [],
   "source": [
    "question = \"\"\"Please explain how do you solve the prime numbers in Java efficiently\"\"\"\n",
    "\n",
    "messages = [\n",
    "    {\"role\": \"system\", \"content\": \"you are a programming expert who answers questions about python, java, software engineering, LLMs and Data science\"},\n",
    "    {\"role\": \"user\", \"content\": \"Please give details explanations of the followig question:\" + question}\n",
    "]\n"
   ]
  },
  {
   "cell_type": "code",
   "execution_count": 86,
   "metadata": {},
   "outputs": [
    {
     "name": "stdout",
     "output_type": "stream",
     "text": [
      "To find prime numbers efficiently in Java, you can use several methods, each improving on the straightforward techniques. A prime number is defined as a number greater than 1 that has no positive divisors other than 1 and itself.\n",
      "\n",
      "### 1. **Understanding Prime Numbers**:\n",
      "   - A prime number is a natural number greater than 1 that cannot be formed by multiplying two smaller natural numbers. Examples include 2, 3, 5, 7, etc.\n",
      "\n",
      "### 2. **Basic Methodology**:\n",
      "   - The simplest way to check if a number \\( n \\) is prime is to check if it is divisible by any number from 2 to \\( n-1 \\). However, this is inefficient for larger numbers.\n",
      "\n",
      "### 3. **Optimized Solution: Trial Division**:\n",
      "   - **Check up to the Square Root**: You only need to check divisibility up to the square root of \\( n \\). If \\( n \\) is divisible by any number up to \\( \\sqrt{n} \\), it cannot be prime.\n",
      "\n",
      "### 4. **Skipping Even Numbers**:\n",
      "   - After checking for divisibility by 2, you can skip all even numbers and check only the odd numbers starting from 3.\n",
      "\n",
      "### 5. **Implementation Example**:\n",
      "Here’s a Java implementation using these optimizations to find all prime numbers up to a given maximum number:\n",
      "\n",
      "```java\n",
      "import java.util.ArrayList;\n",
      "import java.util.List;\n",
      "\n",
      "public class PrimeNumberSieve {\n",
      "\n",
      "    public static void main(String[] args) {\n",
      "        int max = 100;\n",
      "        List<Integer> primes = findPrimes(max);\n",
      "        System.out.println(\"Prime numbers up to \" + max + \": \" + primes);\n",
      "    }\n",
      "\n",
      "    public static List<Integer> findPrimes(int max) {\n",
      "        List<Integer> primes = new ArrayList<>();\n",
      "        \n",
      "        // Check if the number is less than 2\n",
      "        if (max < 2) {\n",
      "            return primes; // No primes below 2\n",
      "        }\n",
      "\n",
      "        // Handle the first prime number\n",
      "        primes.add(2);\n",
      "\n",
      "        // Check for odd numbers only starting from 3\n",
      "        for (int i = 3; i <= max; i += 2) {\n",
      "            if (isPrime(i)) {\n",
      "                primes.add(i);\n",
      "            }\n",
      "        }\n",
      "\n",
      "        return primes;\n",
      "    }\n",
      "\n",
      "    private static boolean isPrime(int n) {\n",
      "        if (n <= 1) return false; // 0 and 1 are not prime numbers\n",
      "        if (n == 2) return true;  // 2 is a prime number\n",
      "        if (n % 2 == 0) return false; // Eliminate even numbers\n",
      "\n",
      "        // Check odd divisors from 3 to sqrt(n)\n",
      "        for (int i = 3; i * i <= n; i += 2) {\n",
      "            if (n % i == 0) {\n",
      "                return false; // Found a divisor, not prime\n",
      "            }\n",
      "        }\n",
      "\n",
      "        return true; // No divisors found, it's prime\n",
      "    }\n",
      "}\n",
      "```\n",
      "\n",
      "### Explanation of the Code:\n",
      "- **findPrimes Method**: \n",
      "   - This method initializes a list to hold prime numbers and returns it after computation.\n",
      "   - It starts by adding 2, the only even prime.\n",
      "   - It then iterates through all odd numbers up to `max`, checking each for primality.\n",
      "\n",
      "- **isPrime Method**: \n",
      "   - This method checks if a number \\( n \\) is prime. \n",
      "   - First, it handles edge cases for numbers less than 2 and the even number 2.\n",
      "   - Then it checks for divisibility against all odd numbers up to the square root of \\( n \\).\n",
      "\n",
      "### 6. **Further Optimizations**:\n",
      "If you're interested in even more efficient methods:\n",
      "- **Sieve of Eratosthenes**: This is an algorithm that finds all primes up to a certain number \\( n \\) in a much more efficient manner by iteratively marking the multiples of each prime starting from 2.\n",
      "  \n",
      "  **Example Implementation**:\n",
      "  ```java\n",
      "  public static List<Integer> sieveOfEratosthenes(int max) {\n",
      "      boolean[] isPrime = new boolean[max + 1];\n",
      "      for (int i = 2; i <= max; i++) {\n",
      "          isPrime[i] = true;\n",
      "      }\n",
      "\n",
      "      for (int i = 2; i * i <= max; i++) {\n",
      "          if (isPrime[i]) {\n",
      "              for (int j = i * i; j <= max; j += i) {\n",
      "                  isPrime[j] = false; // Mark multiples of i as non-prime\n",
      "              }\n",
      "          }\n",
      "      }\n",
      "\n",
      "      List<Integer> primes = new ArrayList<>();\n",
      "      for (int i = 2; i <= max; i++) {\n",
      "          if (isPrime[i]) {\n",
      "              primes.add(i);\n",
      "          }\n",
      "      }\n",
      "\n",
      "      return primes;\n",
      "  }\n",
      "  ```\n",
      "\n",
      "### Conclusion:\n",
      "Finding prime numbers efficiently in Java requires understanding the properties of prime numbers and employing algorithms such as trial division or the Sieve of Eratosthenes. The provided methods balance simplicity and efficiency, making them suitable for different ranges of numbers.\n"
     ]
    }
   ],
   "source": [
    "response = openai.chat.completions.create(model=\"gpt-4o-mini\", messages=messages)\n",
    "print(response.choices[0].message.content)"
   ]
  },
  {
   "cell_type": "code",
   "execution_count": 89,
   "metadata": {},
   "outputs": [
    {
     "data": {
      "text/markdown": [
       "Finding prime numbers efficiently is a common problem in computer science and programming. When it comes to Java, there are multiple algorithms you can implement to generate and check for prime numbers efficiently. Below, I'll explain some popular methods, along with code examples to help you implement them.\n",
       "\n",
       "### Basic Concepts of Prime Numbers\n",
       "\n",
       "A prime number is a natural number greater than 1 that cannot be formed by multiplying two smaller natural numbers. The only factors of a prime number are 1 and itself.\n",
       "\n",
       "### Efficient Methods for Finding Prime Numbers\n",
       "\n",
       "1. **Trial Division**:\n",
       "   This is the simplest method to check if a number is prime. You can check for factors from 2 to the square root of the number.\n",
       "\n",
       "   **Algorithm**:\n",
       "   - If the number \\( n \\) is less than 2, it's not prime.\n",
       "   - Check divisibility from 2 to \\( \\sqrt{n} \\).\n",
       "   - If you find a divisor, it's not prime; otherwise, it is.\n",
       "\n",
       "   **Java Implementation**:\n",
       "   java\n",
       "   public class PrimeChecker {\n",
       "       public static boolean isPrime(int n) {\n",
       "           if (n <= 1) return false;\n",
       "           for (int i = 2; i * i <= n; i++) {\n",
       "               if (n % i == 0) {\n",
       "                   return false;\n",
       "               }\n",
       "           }\n",
       "           return true;\n",
       "       }\n",
       "   }\n",
       "   \n",
       "\n",
       "2. **Sieve of Eratosthenes**:\n",
       "   This is a highly efficient algorithm to find all prime numbers up to a specified integer \\( n \\). It works by iteratively marking the multiples of each prime number starting from 2.\n",
       "\n",
       "   **Algorithm**:\n",
       "   - Create a boolean array `prime[0..n]` and initialize all entries as true. A value in prime[i] will finally be false if \\( i \\) is Not a prime.\n",
       "   - Start from the first prime number (2).\n",
       "   - Mark all its multiples as non-prime.\n",
       "   - Move to the next number that is still true, and repeat the process.\n",
       "   - Continue until you have processed numbers up to \\( \\sqrt{n} \\).\n",
       "\n",
       "   **Java Implementation**:\n",
       "   java\n",
       "   import java.util.Arrays;\n",
       "\n",
       "   public class SieveOfEratosthenes {\n",
       "       public static void findPrimes(int n) {\n",
       "           boolean[] prime = new boolean[n + 1];\n",
       "           Arrays.fill(prime, true);\n",
       "           prime[0] = prime[1] = false; // 0 and 1 are not prime numbers\n",
       "\n",
       "           for (int i = 2; i * i <= n; i++) {\n",
       "               if (prime[i]) {\n",
       "                   for (int j = i * i; j <= n; j += i) {\n",
       "                       prime[j] = false;\n",
       "                   }\n",
       "               }\n",
       "           }\n",
       "\n",
       "           // Printing all prime numbers\n",
       "           for (int i = 2; i <= n; i++) {\n",
       "               if (prime[i]) {\n",
       "                   System.out.print(i + \" \");\n",
       "               }\n",
       "           }\n",
       "       }\n",
       "   }\n",
       "   \n",
       "\n",
       "3. **Optimized Trial Division**:\n",
       "   You can further optimize the trial division method by only checking odd numbers after checking for 2. Also, you can skip checking even numbers.\n",
       "\n",
       "   **Java Implementation**:\n",
       "   java\n",
       "   public class OptimizedPrimeChecker {\n",
       "       public static boolean isPrime(int n) {\n",
       "           if (n <= 1) return false;\n",
       "           if (n == 2) return true; // 2 is prime\n",
       "           if (n % 2 == 0) return false; // exclude even numbers\n",
       "\n",
       "           for (int i = 3; i * i <= n; i += 2) {\n",
       "               if (n % i == 0) {\n",
       "                   return false;\n",
       "               }\n",
       "           }\n",
       "           return true;\n",
       "       }\n",
       "   }\n",
       "   \n",
       "\n",
       "### Performance Considerations\n",
       "\n",
       "- **Complexity**: The Sieve of Eratosthenes is \\( O(n \\log \\log n) \\), which makes it much faster than trial division \\( O(\\sqrt{n}) \\) for larger values of \\( n \\).\n",
       "- **Memory Usage**: The Sieve of Eratosthenes requires \\( O(n) \\) additional memory due to the boolean array it uses to store the prime status of each number.\n",
       "\n",
       "### Conclusion\n",
       "\n",
       "When solving for prime numbers in Java, the approach you choose depends on your specific requirements, such as the range of numbers and performance considerations. For generating a large list of primes, the Sieve of Eratosthenes is often the best choice, while the trial division method (especially the optimized version) is simple and effective for checking if individual numbers are prime."
      ],
      "text/plain": [
       "<IPython.core.display.Markdown object>"
      ]
     },
     "metadata": {},
     "output_type": "display_data"
    }
   ],
   "source": [
    "# Get gpt-4o-mini to answer, with streaming\n",
    "\n",
    "stream = openai.chat.completions.create(model='gpt-4o-mini', messages=messages,stream=True)\n",
    "    \n",
    "response = \"\"\n",
    "display_handle = display(Markdown(\"\"), display_id=True)\n",
    "for chunk in stream:\n",
    "    response += chunk.choices[0].delta.content or ''\n",
    "    response = response.replace(\"```\",\"\").replace(\"markdown\", \"\")\n",
    "    update_display(Markdown(response), display_id=display_handle.display_id)"
   ]
  }
 ],
 "metadata": {
  "kernelspec": {
   "display_name": "llm_env",
   "language": "python",
   "name": "python3"
  },
  "language_info": {
   "codemirror_mode": {
    "name": "ipython",
    "version": 3
   },
   "file_extension": ".py",
   "mimetype": "text/x-python",
   "name": "python",
   "nbconvert_exporter": "python",
   "pygments_lexer": "ipython3",
   "version": "3.12.8"
  }
 },
 "nbformat": 4,
 "nbformat_minor": 4
}
